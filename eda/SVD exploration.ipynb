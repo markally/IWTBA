{
 "cells": [
  {
   "cell_type": "code",
   "execution_count": 81,
   "metadata": {
    "collapsed": true
   },
   "outputs": [],
   "source": [
    "import pandas as pd\n",
    "import numpy as np\n",
    "import json\n",
    "\n",
    "import re\n",
    "from nltk.stem import SnowballStemmer\n",
    "from nltk.corpus import stopwords\n",
    "\n",
    "from sklearn.feature_extraction.text import TfidfVectorizer\n",
    "\n",
    "import pickle\n",
    "from bs4 import BeautifulSoup\n",
    "\n",
    "import coursera_model as cm\n",
    "from coursera_model import tokenize_text\n",
    "\n",
    "import matplotlib.pyplot as plt\n",
    "%matplotlib inline\n",
    "\n",
    "import pickle\n",
    "import numpy as np\n",
    "\n",
    "tfidf_mat = pickle.load(open(\"./data/coursera/tfidf_mat.pkl\", \"rb\" ))\n",
    "c_course_list = pickle.load(open(\"./data/coursera/course_list.pkl\", \"rb\" ))\n",
    "vectorizer = pickle.load(open(\"./data/coursera/vectorizer.pkl\", \"rb\" ))\n",
    "\n",
    "c_tfidf_mat = tfidf_mat[:len(c_course_list), :]"
   ]
  },
  {
   "cell_type": "code",
   "execution_count": 14,
   "metadata": {
    "collapsed": true
   },
   "outputs": [],
   "source": [
    "# coursera --------------------\n",
    "with open('./data/coursera/coursera_courses.json') as c_file:\n",
    "    coursera_courses = json.load(c_file)\n",
    "    course_list = coursera_courses['elements']\n",
    "    \n",
    "coursera = coursera_courses\n",
    "cat_dict = coursera['linked']\n",
    "coursera = coursera['elements']"
   ]
  },
  {
   "cell_type": "code",
   "execution_count": 13,
   "metadata": {
    "collapsed": false
   },
   "outputs": [
    {
     "name": "stdout",
     "output_type": "stream",
     "text": [
      "916\n"
     ]
    }
   ],
   "source": [
    "print len(coursera)"
   ]
  },
  {
   "cell_type": "code",
   "execution_count": 19,
   "metadata": {
    "collapsed": false
   },
   "outputs": [
    {
     "name": "stdout",
     "output_type": "stream",
     "text": [
      "909\n",
      "7\n"
     ]
    }
   ],
   "source": [
    "coursera[0].keys()\n",
    "has_links = 0\n",
    "no_link_index = []\n",
    "for i, course in enumerate(coursera):\n",
    "    if course['links']:\n",
    "        has_links += 1\n",
    "    else:\n",
    "        no_link_index.append(i)\n",
    "print has_links\n",
    "print len(no_link_index)"
   ]
  },
  {
   "cell_type": "code",
   "execution_count": 20,
   "metadata": {
    "collapsed": true
   },
   "outputs": [
    {
     "name": "stdout",
     "output_type": "stream",
     "text": [
      "[181, 308, 349, 499, 688, 737, 854]\n"
     ]
    },
    {
     "data": {
      "text/plain": [
       "{u'aboutTheCourse': u'<div><p>Linear Programming (LP) is arguably one of the most important optimization problems in applied mathematics and engineering. The Simplex algorithm to solve linear programs is widely regarded as one among the \"<a href=\"http://www.siam.org/pdf/news/637.pdf\">top ten</a>\"&nbsp;algorithms of the 20th century. Linear Programs arise in almost all fields of engineering including operations research, statistics, machine learning, control system design, scheduling, formal verification&nbsp;and computer vision. It forms the basis for numerous approaches to solving hard combinatorial optimization problems through randomization and approximation.</p><p><br></p><p>The primary goals of this course&nbsp;will be to:</p><p>1. Understand the basic theory behind LP, algorithms to solve LPs, and the basics of (mixed) integer programs (ILP).</p><p>2. Understand important and emerging applications of LP and ILPs to economic problems (optimal resource allocation, scheduling problems), machine learning (SVM), and combinatorial optimization problems.</p><p>At the end of the course, the successful student will be able to cast various problems that may arise in her research as optimization problems, understand the cases where the optimization problem will be linear, choose appropriate solution methods and interpret results appropriately.<i> This is generally considered a useful ability in many research areas.</i></p></div><div></div><div><br></div>',\n",
       " u'courseSyllabus': u'<p><b style=\"font-size: 13.63636302948px;\">Introductory Material&nbsp;</b><br></p><ul><li>Introduction to Linear Programming.</li></ul><b>Week #1:&nbsp;<br></b><ul><li>The Diet Problem.</li><li>Linear Programming Formulations.<br></li><li>Tutorials on using GLPK (AMPL), Matlab, CVX and Microsft Excel.</li><li>The Simplex Algorithm (basics).</li></ul><b>Week #2:&nbsp;</b><ul><li>Handling unbounded problems</li><li>Degeneracy</li><li>Geometry of Simplex</li><li>Initializing Simplex.</li><li>Cycling and the Use of Bland\\'s rule.</li></ul><b>Week #3:</b><ul><li>Duality: dual variables and dual linear program.</li><li>Strong duality theorem.</li><li>Complementary Slackness.&nbsp;</li><li>KKT conditions for Linear Programs.</li><li>Understanding the dual problem: shadow costs.</li><li><i>Extra:</i> The revised simplex method.</li></ul><b>Week #4:&nbsp;</b><br><ul><li>Advanced LP formulations: norm optimization.</li><li>Least squares, and quadratic programming.</li><li>Applications #1: Signal reconstruction and De-noising.</li><li>Applications #2: Regression.</li></ul><b>Week #5:&nbsp;</b><br><ul><li>Integer Linear Programming.</li><li>Integer vs. Real-valued variables.</li><li>NP-completeness: basic introduction.</li><li>Reductions from Combinatorial Problems (SAT, TSP and Vertex Cover).</li><li>Approximation Algorithms: Introduction.</li></ul><b>Week #6:</b><br><ul><li>Branch and Bound Method</li><li>Cutting Plane Method</li></ul><strong></strong><strong>Week #7:</strong><br><ul><li>Applications: solving puzzles (Sudoku), reasoning about systems and other applications.</li><li>Classification and Machine Learning</li></ul>',\n",
       " u'faq': u'<ul><li>Will I get a statement of accomplishment after completing this class?</li></ul>Yes.<br><br><ul><li>What textbooks will I need for this class?</li></ul><strong>No textbook is officially required.</strong> However, there are numerous great textbooks on this topic. We are hoping you will be able to find one. You can always cross check whether your textbook has adequate coverage for the topics to be taught in this class.&nbsp;<br><br>We recommend a great textbook&nbsp;by Prof.&nbsp;Vanderbei (see <a href=\"http://www.princeton.edu/~rvdb/LPbook/\" target=\"_blank\">http://www.princeton.edu/~rvdb/LPbook/</a>). It is available as a free download.<br>&nbsp;The classic book by Chvatal&nbsp;is an&nbsp;excellent textbook but sadly out-of-print.&nbsp;<br><br><ul><li>What are the pre-requisites?</li></ul>The prerequisites for this class include:<br><ul><li><strong>Basic College Level mathematics:</strong> calculus and some knowledge of linear algebra.</li><li><strong>Some programming skills:</strong>&nbsp; H<strong>owever, &nbsp; students without a programming background &nbsp;can pass the course by solving the weekly assignments</strong>.</li></ul><br><ul><li>What will the level of the class be?</li></ul>Normally, this will be a junior/senior level undergraduate class or even a beginning graduate class, depending on the major and the university. A highly motivated high school student with advanced mathematical skills can follow along.<br><ul><li>What skills will I learn?</li></ul>The class is about Linear and Integer Programming. You will definitely learn:<br><br>what optimization problems are, what are linear optimization problems, what are the applications, what are the algorithms used for solving LPs, and how do they work?<br><br>In addition, we found through our previous offering in 2013 that the course helps many students think mathematically and improve the programming skills. We were proud of the many students from last year&nbsp;who took on some of the challenging programming assignments and reported a big confidence boost in their skills.<ul><li>Can I get university course credits for this class?</li></ul>Unfortunately, not at this time. University of Colorado, Boulder may be&nbsp;considering ways of recognizing Coursera classes,&nbsp;but there is no consensus at this point in time.<br><br>However, Prof. Sankaranarayanan teaches an on-campus class (CSCI 5654) at the University of Colorado, Boulder, and it will be available simultaneously on-line for credit through CAETE (see&nbsp;<a href=\"http://cuengineeringonline.colorado.edu/\" target=\"_blank\">http://cuengineeringonline.colorado.edu/</a>&nbsp;). You can enroll for our class CSCI 5654 through CAETE from anywhere in the world.&nbsp;<br><br><ul><li>Are we going to do rigorous mathematical proofs? How much programming do you expect to do?&nbsp;</li></ul>We will cover proofs for interested students. But we will never have proofs in the assignments.<br><br>Assignments will test the conceptual ideas in the class including algorithms, and many assignments may ask you to use an existing LP solver (open source or commercial) to solve a LP/ILP and interpret its answer. We do not consider this part as programming: any computer user&nbsp;should be able to manage this.<br><br>We will have programming assignments: in fact, students will get to build their own LP and later ILP solver in stages<strong>. But the programming is not going to be for everyone.</strong> The last assignment (ILP) will be quite intense and definitely challenging to students.<br><br><ul><li>Is there a particular programming language that you expect for the assignments?</li></ul>No. We will allow students to program in most general purpose languages. However, by the very nature of the assignments, some languages such as python, C/C++, Java, Haskell, Scheme, Lisp, MATLAB/Octave, ... will be more suitable than others. You can judge for yourselves as soon as the assignments are posted on week 1.<br><br><ul><li>What will the coursework involve?</li></ul>Coursework will involve watching videos, solving weekly assignments and tackling four programming assignments. See below on how the grading will work.&nbsp;<br><ul><li>How do I pass? How does distinction work?</li></ul><br>To pass the class: you will need to get at least 35% of the total grade. &nbsp;The pass cutoff is &nbsp;designed so that students can pass either by solving some/all of the programming assignments OR by solving some/all of the weekly assignments.&nbsp;<br><br>To score a distinction: you will need to get at least 85% of the total grade. To score a distinction, students must do well in ALL aspects of the course: programming as well as weekly assignments.<br><br><br>',\n",
       " u'id': 480,\n",
       " u'language': u'en',\n",
       " u'links': {},\n",
       " u'name': u'Linear and Integer Programming',\n",
       " u'shortDescription': u'This course will cover the very basic ideas in optimization. Topics include the basic theory and algorithms behind linear and integer linear programming along with some of the important applications. We will also explore the theory of convex polyhedra using linear programming.\\n',\n",
       " u'shortName': u'linearprogramming'}"
      ]
     },
     "execution_count": 20,
     "metadata": {},
     "output_type": "execute_result"
    }
   ],
   "source": [
    "print no_link_index # [181, 308, 349, 499, 688, 737, 854]\n",
    "coursera[181] # linear programming, math"
   ]
  },
  {
   "cell_type": "code",
   "execution_count": 23,
   "metadata": {
    "collapsed": false
   },
   "outputs": [],
   "source": [
    "tfidf_mat = pickle.load(open(\"./data/coursera/tfidf_mat.pkl\", \"rb\" ))\n",
    "c_course_list = pickle.load(open(\"./data/coursera/course_list.pkl\", \"rb\" ))\n",
    "vectorizer = pickle.load(open(\"./data/coursera/vectorizer.pkl\", \"rb\" ))\n",
    "\n",
    "c_tfidf_mat = tfidf_mat[:len(c_course_list), :]"
   ]
  },
  {
   "cell_type": "code",
   "execution_count": 24,
   "metadata": {
    "collapsed": true
   },
   "outputs": [],
   "source": [
    "from sklearn.cluster import KMeans"
   ]
  },
  {
   "cell_type": "code",
   "execution_count": 34,
   "metadata": {
    "collapsed": false
   },
   "outputs": [
    {
     "data": {
      "text/plain": [
       "KMeans(copy_x=True, init='k-means++', max_iter=300, n_clusters=8, n_init=10,\n",
       "    n_jobs=1, precompute_distances='auto', random_state=10, tol=0.0001,\n",
       "    verbose=0)"
      ]
     },
     "execution_count": 34,
     "metadata": {},
     "output_type": "execute_result"
    }
   ],
   "source": [
    "km = KMeans(random_state=10)\n",
    "km.fit(c_tfidf_mat.T)"
   ]
  },
  {
   "cell_type": "code",
   "execution_count": 35,
   "metadata": {
    "collapsed": false
   },
   "outputs": [
    {
     "data": {
      "text/plain": [
       "array([[  3.41142978e-04,   1.89858804e-04,   2.79017155e-04, ...,\n",
       "          2.73997616e-04,   2.84538942e-04,   1.77754324e-04],\n",
       "       [  0.00000000e+00,   5.21842245e-02,   1.56377699e-01, ...,\n",
       "          0.00000000e+00,   0.00000000e+00,   0.00000000e+00],\n",
       "       [  1.11976594e-01,   4.82682428e-02,   8.28409243e-01, ...,\n",
       "          5.34503067e-01,   4.63981817e-01,   4.74430892e-01],\n",
       "       ..., \n",
       "       [  7.84282202e-02,   0.00000000e+00,   0.00000000e+00, ...,\n",
       "          1.16989081e-01,   2.11938321e-01,   7.04311613e-01],\n",
       "       [  1.83516656e-02,   1.13631716e-01,   5.62115463e-02, ...,\n",
       "          3.96984482e-02,   9.15080389e-02,   3.45952027e-02],\n",
       "       [  0.00000000e+00,   0.00000000e+00,   1.23933386e-01, ...,\n",
       "          1.86582267e-01,   4.22517344e-02,   1.72813048e-01]])"
      ]
     },
     "execution_count": 35,
     "metadata": {},
     "output_type": "execute_result"
    }
   ],
   "source": [
    "km.cluster_centers_"
   ]
  },
  {
   "cell_type": "code",
   "execution_count": 46,
   "metadata": {
    "collapsed": false
   },
   "outputs": [
    {
     "name": "stdout",
     "output_type": "stream",
     "text": [
      "(3983, 22155)\n"
     ]
    }
   ],
   "source": [
    "from sklearn.decomposition import TruncatedSVD\n",
    "print tfidf_mat.shape"
   ]
  },
  {
   "cell_type": "code",
   "execution_count": 149,
   "metadata": {
    "collapsed": false
   },
   "outputs": [
    {
     "ename": "ValueError",
     "evalue": "0.9 is not in list",
     "output_type": "error",
     "traceback": [
      "\u001b[0;31m---------------------------------------------------------------------------\u001b[0m",
      "\u001b[0;31mValueError\u001b[0m                                Traceback (most recent call last)",
      "\u001b[0;32m<ipython-input-149-bf74141ae207>\u001b[0m in \u001b[0;36m<module>\u001b[0;34m()\u001b[0m\n\u001b[1;32m      8\u001b[0m \u001b[0;34m\u001b[0m\u001b[0m\n\u001b[1;32m      9\u001b[0m \u001b[0mplt\u001b[0m\u001b[0;34m.\u001b[0m\u001b[0mplot\u001b[0m\u001b[0;34m(\u001b[0m\u001b[0mn_dims\u001b[0m\u001b[0;34m,\u001b[0m \u001b[0mexplained_var\u001b[0m\u001b[0;34m)\u001b[0m\u001b[0;34m\u001b[0m\u001b[0m\n\u001b[0;32m---> 10\u001b[0;31m \u001b[0;32mprint\u001b[0m \u001b[0mexplained_var\u001b[0m\u001b[0;34m.\u001b[0m\u001b[0mindex\u001b[0m\u001b[0;34m(\u001b[0m\u001b[0;36m.9\u001b[0m\u001b[0;34m)\u001b[0m\u001b[0;34m\u001b[0m\u001b[0m\n\u001b[0m",
      "\u001b[0;31mValueError\u001b[0m: 0.9 is not in list"
     ]
    },
    {
     "data": {
      "image/png": "[encoded data removed]",
      "text/plain": [
       "<matplotlib.figure.Figure at 0x10f345b50>"
      ]
     },
     "metadata": {},
     "output_type": "display_data"
    }
   ],
   "source": [
    "n_dims = range(100, 1500, 50)\n",
    "\n",
    "svd = TruncatedSVD(n_components=max(n_dims), random_state=10)\n",
    "svd.fit(tfidf_mat)\n",
    "\n",
    "explained_var = [np.sum(svd.explained_variance_ratio_[:x]) for x in n_dims]\n",
    "\n",
    "\n",
    "plt.plot(n_dims, explained_var)"
   ]
  },
  {
   "cell_type": "code",
   "execution_count": 160,
   "metadata": {
    "collapsed": false
   },
   "outputs": [
    {
     "name": "stdout",
     "output_type": "stream",
     "text": [
      "0.715569678061\n",
      "0.802515330503\n",
      "0.901940300298\n"
     ]
    }
   ],
   "source": [
    "print explained_var[6] # 400 dim, 70% var\n",
    "print explained_var[10] # 600 dim, 80% var\n",
    "print explained_var[18] # 1000 dim, 90% var"
   ]
  },
  {
   "cell_type": "code",
   "execution_count": 80,
   "metadata": {
    "collapsed": false
   },
   "outputs": [
    {
     "data": {
      "text/plain": [
       "[<matplotlib.lines.Line2D at 0x11067fe90>]"
      ]
     },
     "execution_count": 80,
     "metadata": {},
     "output_type": "execute_result"
    },
    {
     "data": {
      "image/png": "[encoded data removed]",
      "text/plain": [
       "<matplotlib.figure.Figure at 0x110e3e350>"
      ]
     },
     "metadata": {},
     "output_type": "display_data"
    }
   ],
   "source": [
    "n_dims = range(10, 100)\n",
    "\n",
    "svd = TruncatedSVD(n_components=max(n_dims), random_state=10)\n",
    "svd.fit(tfidf_mat)\n",
    "\n",
    "explained_var = [np.sum(svd.explained_variance_ratio_[:x]) for x in n_dims]\n",
    "\n",
    "\n",
    "plt.plot(n_dims, explained_var)"
   ]
  },
  {
   "cell_type": "code",
   "execution_count": 76,
   "metadata": {
    "collapsed": false
   },
   "outputs": [
    {
     "data": {
      "text/plain": [
       "[<matplotlib.lines.Line2D at 0x110c71590>]"
      ]
     },
     "execution_count": 76,
     "metadata": {},
     "output_type": "execute_result"
    },
    {
     "data": {
      "image/png": "[encoded data removed]",
      "text/plain": [
       "<matplotlib.figure.Figure at 0x10f6f1290>"
      ]
     },
     "metadata": {},
     "output_type": "display_data"
    }
   ],
   "source": [
    "plt.plot(svd.explained_variance_ratio_[:50])"
   ]
  },
  {
   "cell_type": "code",
   "execution_count": 165,
   "metadata": {
    "collapsed": false
   },
   "outputs": [],
   "source": [
    "svd = TruncatedSVD(n_components=1000, random_state=10) \n",
    "# 400 dim, 70% var\n",
    "# 600 dim, 80% var\n",
    "# 1000 dim, 90% var\n",
    "red_tfidf_mat = svd.fit_transform(tfidf_mat)\n",
    "c_red_tfidf_mat = red_tfidf_mat[:len(c_course_list), :]"
   ]
  },
  {
   "cell_type": "code",
   "execution_count": 83,
   "metadata": {
    "collapsed": true
   },
   "outputs": [],
   "source": [
    "\"\"\"collect github job descriptions and titles\"\"\"\n",
    "git_data = json.load(open('./data/github/github_postings'))\n",
    "git_jobs_titles = []\n",
    "git_jobs_descriptions = []\n",
    "\n",
    "for job in git_data:\n",
    "    git_jobs_titles.append(job['title'])\n",
    "    git_jobs_descriptions.append(BeautifulSoup(job['description']).text)"
   ]
  },
  {
   "cell_type": "code",
   "execution_count": 89,
   "metadata": {
    "collapsed": true
   },
   "outputs": [],
   "source": [
    "def build_recommend_table(input_text, lsa_mat, vectorizer, course_list, lsa, n=5):\n",
    "    indices = get_n_most_similar_indices_lsa(input_text, lsa_mat, vectorizer, lsa, n=n)\n",
    "    header = ['Course Name', 'Course Description']\n",
    "    table = [header]\n",
    "    for i in indices:\n",
    "        course = course_list[i]\n",
    "        name = course['name']\n",
    "        short_desc = course['shortDescription']\n",
    "        url = 'https://www.coursera.org/course/' + course['shortName']\n",
    "        table.append([name, short_desc, url])\n",
    "    return table"
   ]
  },
  {
   "cell_type": "code",
   "execution_count": 216,
   "metadata": {
    "collapsed": false
   },
   "outputs": [],
   "source": [
    "input_index = np.random.randint(len(git_jobs_descriptions))\n",
    "input_text = git_jobs_descriptions[input_index]\n",
    "old_table = cm.build_recommend_table(input_text, c_tfidf_mat, vectorizer, c_course_list, n=5)"
   ]
  },
  {
   "cell_type": "code",
   "execution_count": 217,
   "metadata": {
    "collapsed": false
   },
   "outputs": [
    {
     "name": "stdout",
     "output_type": "stream",
     "text": [
      "[95, 809, 885, 869, 36]\n"
     ]
    }
   ],
   "source": [
    "n = 5\n",
    "input_tfidf = vectorizer.transform([input_text])\n",
    "input_lsa = svd.transform(input_tfidf)\n",
    "cos_sims = c_red_tfidf_mat.dot(input_lsa.T) #vects already have unit norm\n",
    "top_n_indices = np.argsort(cos_sims, axis=0)[-1:-(n + 1):-1, 0]\n",
    "print top_n_indices.tolist()"
   ]
  },
  {
   "cell_type": "code",
   "execution_count": 218,
   "metadata": {
    "collapsed": false,
    "scrolled": true
   },
   "outputs": [
    {
     "name": "stdout",
     "output_type": "stream",
     "text": [
      "iOS Engineer\n",
      "old\n",
      "Design Thinking for Business Innovation\n",
      "Leading Innovation in Arts and Culture\n",
      "Designing, Running, and Analyzing Experiments\n",
      "Creating Site-Specific Dance and Performance Works\n",
      "Programming Mobile Applications for Android Handheld Systems: Part 2\n",
      "\n",
      "iOS Engineer\n",
      "SVD of 400\n",
      "Design Thinking for Business Innovation\n",
      "Programming Mobile Applications for Android Handheld Systems: Part 1\n",
      "Programming Mobile Services for Android Handheld Systems: Communication\n",
      "Designing, Running, and Analyzing Experiments\n",
      "Programming Mobile Applications for Android Handheld Systems: Part 2\n",
      "\n",
      "iOS Engineer\n",
      "SVD of 600\n",
      "Design Thinking for Business Innovation\n",
      "Programming Mobile Applications for Android Handheld Systems: Part 1\n",
      "Programming Mobile Applications for Android Handheld Systems: Part 2\n",
      "Leading Innovation in Arts and Culture\n",
      "Creative, Serious and Playful Science of Android Apps\n",
      "\n",
      "iOS Engineer\n",
      "SVD of 1000\n",
      "Design Thinking for Business Innovation\n",
      "Powerful Tools for Teaching and Learning: Web 2.0 Tools\n",
      "Creating Site-Specific Dance and Performance Works\n",
      "Leading Innovation in Arts and Culture\n",
      "Understanding China, 1700-2000: A Data Analytic Approach, Part 1\n",
      "\n"
     ]
    }
   ],
   "source": [
    "print git_jobs_titles[input_index]\n",
    "print 'old'\n",
    "for x in xrange(1, n+1):\n",
    "    print old_table[x][0]\n",
    "print\n",
    "\n",
    "for i in [400, 600, 1000]:\n",
    "    n = 5\n",
    "    input_tfidf = vectorizer.transform([input_text])\n",
    "    input_lsa = svd.transform(input_tfidf)[:, :i]\n",
    "    cos_sims = c_red_tfidf_mat[:, :i].dot(input_lsa.T) #vects already have unit norm\n",
    "    top_n_indices = np.argsort(cos_sims, axis=0)[-1:-(n + 1):-1, 0]\n",
    "\n",
    "    indices = top_n_indices.tolist()\n",
    "    header = ['Course Name', 'Course Description']\n",
    "    table = [header]\n",
    "    for ind in indices:\n",
    "        course = course_list[ind]\n",
    "        name = course['name']\n",
    "        short_desc = course['shortDescription']\n",
    "        url = 'https://www.coursera.org/course/' + course['shortName']\n",
    "        table.append([name, short_desc, url])\n",
    "        \n",
    "    print git_jobs_titles[input_index]\n",
    "    print 'SVD of %s' % (i)\n",
    "    for x in xrange(1, n+1):\n",
    "        print table[x][0]\n",
    "    print "
   ]
  },
  {
   "cell_type": "code",
   "execution_count": 205,
   "metadata": {
    "collapsed": false,
    "scrolled": true
   },
   "outputs": [
    {
     "name": "stdout",
     "output_type": "stream",
     "text": [
      "Back-End Engineer\n",
      "new | old\n",
      "Design Thinking for Business Innovation | Design Thinking for Business Innovation\n",
      "An Introduction to Interactive Programming in Python | An Introduction to Interactive Programming in Python (Part 2)\n",
      "An Introduction to Interactive Programming in Python (Part 2) | An Introduction to Interactive Programming in Python\n",
      "An Introduction to Interactive Programming in Python (Part 1) | An Introduction to Interactive Programming in Python (Part 1)\n",
      "E-learning and Digital Cultures | E-learning and Digital Cultures\n"
     ]
    }
   ],
   "source": [
    "print git_jobs_titles[input_index]\n",
    "print 'new', \"|\", 'old'\n",
    "for x in xrange(1, n+1):\n",
    "    print table[x][0], \"|\", old_table[x][0]"
   ]
  },
  {
   "cell_type": "code",
   "execution_count": 206,
   "metadata": {
    "collapsed": false
   },
   "outputs": [
    {
     "data": {
      "text/plain": [
       "[['Course Name', 'Course Description'],\n",
       " [u'Design Thinking for Business Innovation',\n",
       "  u'This course provides an overview of the Design Thinking process and tools used for business innovation.\\n\\n',\n",
       "  u'https://www.coursera.org/course/designbiz'],\n",
       " [u'An Introduction to Interactive Programming in Python (Part 2)',\n",
       "  u'This two-part course is designed to be a fun introduction to the basics of programming in Python. Our main focus will be on building simple interactive games such as Pong, Blackjack and Asteroids.',\n",
       "  u'https://www.coursera.org/course/interactivepython2'],\n",
       " [u'An Introduction to Interactive Programming in Python',\n",
       "  u'This course is designed to be a fun introduction to the basics of programming in Python. Our main focus will be on building simple interactive games such as Pong, Blackjack and Asteroids.',\n",
       "  u'https://www.coursera.org/course/interactivepython'],\n",
       " [u'An Introduction to Interactive Programming in Python (Part 1)',\n",
       "  u'This two-part course is designed to be a fun introduction to the basics of programming in Python. Our main focus will be on building simple interactive games such as Pong, Blackjack and Asteroids. ',\n",
       "  u'https://www.coursera.org/course/interactivepython1'],\n",
       " [u'E-learning and Digital Cultures',\n",
       "  u'This course will explore how digital cultures and learning cultures connect, and what this means for the ways in which we conduct education online. The course is not about how to \\u2018do\\u2019 e-learning; rather, it is an invitation to view online educational practices through a particular lens \\u2013 that of popular and digital culture. Follow this course on Twitter at #edcmooc.',\n",
       "  u'https://www.coursera.org/course/edc']]"
      ]
     },
     "execution_count": 206,
     "metadata": {},
     "output_type": "execute_result"
    }
   ],
   "source": [
    "old_table"
   ]
  },
  {
   "cell_type": "code",
   "execution_count": 223,
   "metadata": {
    "collapsed": false
   },
   "outputs": [
    {
     "data": {
      "text/plain": [
       "25"
      ]
     },
     "execution_count": 223,
     "metadata": {},
     "output_type": "execute_result"
    }
   ],
   "source": [
    "len(cat_dict['categories'])"
   ]
  }
 ],
 "metadata": {
  "kernelspec": {
   "display_name": "Python 2",
   "language": "python",
   "name": "python2"
  },
  "language_info": {
   "codemirror_mode": {
    "name": "ipython",
    "version": 2
   },
   "file_extension": ".py",
   "mimetype": "text/x-python",
   "name": "python",
   "nbconvert_exporter": "python",
   "pygments_lexer": "ipython2",
   "version": "2.7.9"
  }
 },
 "nbformat": 4,
 "nbformat_minor": 0
}
