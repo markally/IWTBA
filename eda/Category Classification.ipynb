{
 "cells": [
  {
   "cell_type": "code",
   "execution_count": 183,
   "metadata": {
    "collapsed": true
   },
   "outputs": [],
   "source": [
    "import matplotlib.pyplot as plt\n",
    "%matplotlib inline"
   ]
  },
  {
   "cell_type": "code",
   "execution_count": 204,
   "metadata": {
    "collapsed": false
   },
   "outputs": [
    {
     "ename": "SyntaxError",
     "evalue": "invalid syntax (<ipython-input-204-f9371818461a>, line 78)",
     "output_type": "error",
     "traceback": [
      "\u001b[0;36m  File \u001b[0;32m\"<ipython-input-204-f9371818461a>\"\u001b[0;36m, line \u001b[0;32m78\u001b[0m\n\u001b[0;31m    if course['language'] == 'en'\u001b[0m\n\u001b[0m                                 ^\u001b[0m\n\u001b[0;31mSyntaxError\u001b[0m\u001b[0;31m:\u001b[0m invalid syntax\n"
     ]
    }
   ],
   "source": [
    "import pandas as pd\n",
    "import numpy as np\n",
    "import json\n",
    "\n",
    "import re\n",
    "from nltk.stem import SnowballStemmer\n",
    "from nltk.corpus import stopwords\n",
    "\n",
    "from sklearn.feature_extraction.text import TfidfVectorizer\n",
    "\n",
    "import pickle\n",
    "from bs4 import BeautifulSoup\n",
    "\n",
    "#create regex pattern\n",
    "re_pattern = re.compile('[^a-zA-Z]')\n",
    "\n",
    "# create stemmer\n",
    "stemmer = SnowballStemmer('english')\n",
    "\n",
    "#create stopwords\n",
    "eng_stop = set(stopwords.words('english'))\n",
    "\n",
    "def concatenate_text_data(course_dict):\n",
    "    name = course_dict['name']\n",
    "    faq = course_dict['faq']\n",
    "    syllabus = BeautifulSoup(course_dict['courseSyllabus']).text\n",
    "    short_desc = course_dict['shortDescription']\n",
    "    about = BeautifulSoup(course_dict['aboutTheCourse']).text\n",
    "    return \" \".join([name, syllabus, short_desc, about])\n",
    "\n",
    "def tokenize_text(text):\n",
    "    \"\"\"clean and tokenize a job description\"\"\"\n",
    "    #should modify this to get rid of single letter words or ' caused junk\n",
    "    clean_text = re_pattern.sub(\" \", text).lower()\n",
    "    tokenized_desc = [stemmer.stem(word) for word in clean_text.split() if word not in eng_stop]\n",
    "    return tokenized_desc\n",
    "\n",
    "def get_top_n_words(course_id, n=5):\n",
    "    index_val = course_id_to_index[int(course_id)]\n",
    "    top_n_index = np.argsort(tfidf_mat.getrow(index_val).todense())[-1:-(n + 1):-1, 0]\n",
    "    words = [feature_mapping[i] for i in top_n_index.tolist()[0]]\n",
    "    tfidf_vals = tfidf_mat[index_val, top_n_index].data\n",
    "    return zip(words, tfidf_vals)\n",
    "\n",
    "def get_n_most_similar_indices(input_text, tfidf_mat, vectorizer, n=5):\n",
    "    input_tfidf = vectorizer.transform([input_text])\n",
    "    cos_sims_sparse = tfidf_mat.dot(input_tfidf.T) #vects already have unit norm\n",
    "    n = min(n, cos_sims_sparse.nnz) # only return elements with non-zero similarity\n",
    "    cos_sims = cos_sims_sparse.todense() #shape: (m x 1)\n",
    "    top_n_indices = np.argsort(cos_sims, axis=0)[-1:-(n + 1):-1, 0]\n",
    "    return top_n_indices.ravel().tolist()[0]\n",
    "\n",
    "def build_recommend_table(input_text, tfidf_mat, vectorizer, course_list, n=5):\n",
    "    indices = get_n_most_similar_indices(input_text, tfidf_mat, vectorizer, n=n)\n",
    "    header = ['Course Name', 'Course Description']\n",
    "    table = [header]\n",
    "    for i in indices:\n",
    "        course = course_list[i]\n",
    "        name = course['name']\n",
    "        short_desc = course['shortDescription']\n",
    "        url = 'https://www.coursera.org/course/' + course['shortName']\n",
    "        table.append([name, short_desc, url])\n",
    "    return table\n",
    "\n",
    "# dump objs to pickles\n",
    "if __name__ == '__main__':\n",
    "\n",
    "    # coursera --------------------\n",
    "    with open('../data/coursera/coursera_courses.json') as c_file:\n",
    "        coursera_courses = json.load(c_file)\n",
    "        course_list = coursera_courses['elements']\n",
    "\n",
    "    course_id_to_index = {}\n",
    "    course_text_list = []\n",
    "\n",
    "    i = 0\n",
    "    for course in coursera_courses['elements']:\n",
    "        if course['language'] == 'en':\n",
    "            course_id_to_index[course['id']] = i\n",
    "            course_text_list.append(concatenate_text_data(course))\n",
    "            i += 1\n",
    "\n",
    "    # ny jobs --------------------\n",
    "    ny_jobs_raw = open('../data/nyc/ny_jobs_data.json').read()\n",
    "    ny_jobs_data = json.loads(ny_jobs_raw)\n",
    "\n",
    "    ny_jobs_columns = [col['fieldName'] for col in ny_jobs_data['meta']['view']['columns']]\n",
    "\n",
    "    ny_jobs_desc_index = ny_jobs_columns.index('job_description')\n",
    "    ny_jobs_title_index = ny_jobs_columns.index('business_title') #there's also civic title\n",
    "\n",
    "    # could loop through this once\n",
    "    ny_jobs_descriptions = [job[ny_jobs_desc_index] for job in ny_jobs_data['data']]\n",
    "    ny_jobs_titles = [job[ny_jobs_title_index] for job in ny_jobs_data['data']]\n",
    "\n",
    "    # github jobs -----------------\n",
    "    git_data = json.load(open('../data/github/github_postings'))\n",
    "    git_jobs_descriptions = []\n",
    "    git_jobs_titles = []\n",
    "\n",
    "    for job in git_data:\n",
    "        git_jobs_descriptions.append(BeautifulSoup(job['description']).text) #need to strip html\n",
    "        git_jobs_titles.append(job['title'])\n",
    "\n",
    "    # model building -----------------\n",
    "    combined_text = course_text_list + ny_jobs_descriptions + git_jobs_descriptions\n",
    "    vectorizer = TfidfVectorizer(tokenizer=tokenize_text)\n",
    "    tfidf_mat = vectorizer.fit_transform(combined_text)\n",
    "    feature_mapping = vectorizer.get_feature_names()\n",
    "\n",
    "    course_tfidf = tfidf_mat[:len(course_text_list), :]\n",
    "    job_tfidf = tfidf_mat[len(course_text_list):, :]"
   ]
  },
  {
   "cell_type": "code",
   "execution_count": null,
   "metadata": {
    "collapsed": false
   },
   "outputs": [],
   "source": [
    "from sklearn.decomposition import TruncatedSVD\n",
    "# from sklearn.naive_bayes import MultinomialNB\n",
    "from sklearn.svm import LinearSVC\n",
    "\n",
    "from sklearn.cross_validation import KFold, cross_val_score\n",
    "from sklearn.preprocessing import MultiLabelBinarizer\n",
    "from sklearn.multiclass import OneVsRestClassifier"
   ]
  },
  {
   "cell_type": "code",
   "execution_count": 233,
   "metadata": {
    "collapsed": false
   },
   "outputs": [
    {
     "name": "stdout",
     "output_type": "stream",
     "text": [
      "[-1]\n",
      "[-1]\n",
      "[-1]\n",
      "[-1]\n",
      "[-1]\n",
      "[-1]\n",
      "[-1]\n"
     ]
    }
   ],
   "source": [
    "course_cats = [course['links'].get('categories', [-1]) for course in course_list]\n",
    "for course in course_cats:\n",
    "    if len(course) == 1:\n",
    "        if course[0] == -1:\n",
    "            print course"
   ]
  },
  {
   "cell_type": "code",
   "execution_count": 291,
   "metadata": {
    "collapsed": false
   },
   "outputs": [
    {
     "name": "stdout",
     "output_type": "stream",
     "text": [
      "(916, 26)\n",
      "2.23253275109\n"
     ]
    },
    {
     "data": {
      "text/plain": [
       "array([False,  True,  True,  True,  True,  True,  True,  True,  True,\n",
       "        True,  True,  True,  True,  True,  True,  True,  True,  True,\n",
       "       False,  True, False,  True,  True, False,  True,  True], dtype=bool)"
      ]
     },
     "execution_count": 291,
     "metadata": {},
     "output_type": "execute_result"
    }
   ],
   "source": [
    "mlb = MultiLabelBinarizer()\n",
    "course_cats_binarized = mlb.fit_transform(course_cats)\n",
    "print course_cats_binarized.shape\n",
    "print course_cats_binarized.sum(axis=1).mean()\n",
    "course_cats_binarized.sum(axis=0) > 40"
   ]
  },
  {
   "cell_type": "code",
   "execution_count": 207,
   "metadata": {
    "collapsed": true
   },
   "outputs": [],
   "source": [
    "svd = TruncatedSVD(n_components=1000, random_state=10)\n",
    "tfidf_mat_red = svd.fit_transform(tfidf_mat)\n",
    "c_tfidf_red = tfidf_mat_red[:len(course_text_list), :]"
   ]
  },
  {
   "cell_type": "code",
   "execution_count": 281,
   "metadata": {
    "collapsed": false
   },
   "outputs": [
    {
     "name": "stdout",
     "output_type": "stream",
     "text": [
      "[0, 1, 2, 3, 4, 5, 6, 7, 8, 9, 10, 11, 12, 13, 14, 15, 16, 17, 18, 19, 20, 21]\n",
      "(26,) (22,)\n",
      "[-1  1  2  3  4  5  6  8  9 10 11 12 13 14 15 16 17 18 19 20 21 22]\n"
     ]
    }
   ],
   "source": [
    "# filter to only tags with > 40 courses\n",
    "mask = course_cats_binarized.sum(axis=0) > 40\n",
    "course_cats_binarized = course_cats_binarized[:, mask]\n",
    "print mask.nonzero()[0].tolist()\n",
    "print mlb.classes_.shape, mask.shape\n",
    "print mlb.classes_[mask]"
   ]
  },
  {
   "cell_type": "code",
   "execution_count": 289,
   "metadata": {
    "collapsed": false
   },
   "outputs": [
    {
     "data": {
      "text/plain": [
       "array([ True,  True,  True,  True,  True,  True,  True,  True,  True,\n",
       "        True,  True,  True,  True,  True,  True,  True,  True,  True,\n",
       "        True,  True,  True,  True], dtype=bool)"
      ]
     },
     "execution_count": 289,
     "metadata": {},
     "output_type": "execute_result"
    }
   ],
   "source": []
  },
  {
   "cell_type": "code",
   "execution_count": 288,
   "metadata": {
    "collapsed": false
   },
   "outputs": [
    {
     "data": {
      "text/plain": [
       "(5, 22)"
      ]
     },
     "execution_count": 288,
     "metadata": {},
     "output_type": "execute_result"
    }
   ],
   "source": [
    "course_cats_binarized[:5, :][:, mask].shape"
   ]
  },
  {
   "cell_type": "code",
   "execution_count": 274,
   "metadata": {
    "collapsed": false
   },
   "outputs": [
    {
     "data": {
      "text/plain": [
       "{0: -1,\n",
       " 1: 1,\n",
       " 2: 2,\n",
       " 3: 3,\n",
       " 4: 4,\n",
       " 5: 5,\n",
       " 6: 6,\n",
       " 7: 8,\n",
       " 8: 9,\n",
       " 9: 10,\n",
       " 10: 11,\n",
       " 11: 12,\n",
       " 12: 13,\n",
       " 13: 14,\n",
       " 14: 15,\n",
       " 15: 16,\n",
       " 16: 17,\n",
       " 17: 18,\n",
       " 18: 19,\n",
       " 19: 20,\n",
       " 20: 21,\n",
       " 21: 22}"
      ]
     },
     "execution_count": 274,
     "metadata": {},
     "output_type": "execute_result"
    }
   ],
   "source": [
    "label_arr_to_cat_id = {}\n",
    "for i, k in enumerate(mask.nonzero()[0].tolist()):\n",
    "    label_arr_to_cat_id[i] = mlb.classes_[k]\n",
    "label_arr_to_cat_id"
   ]
  },
  {
   "cell_type": "code",
   "execution_count": null,
   "metadata": {
    "collapsed": true
   },
   "outputs": [],
   "source": [
    "label_arr_to_cat_id[0]"
   ]
  },
  {
   "cell_type": "code",
   "execution_count": 209,
   "metadata": {
    "collapsed": false
   },
   "outputs": [
    {
     "data": {
      "text/plain": [
       "0"
      ]
     },
     "execution_count": 209,
     "metadata": {},
     "output_type": "execute_result"
    }
   ],
   "source": [
    "clf = MultinomialNB()\n",
    "ovr = OneVsRestClassifier(clf, 1)\n",
    "ovr.fit(course_tfidf, course_cats_binarized)\n",
    "np.sum(ovr.predict(course_tfidf)) # returns 0 for all inputs"
   ]
  },
  {
   "cell_type": "code",
   "execution_count": 210,
   "metadata": {
    "collapsed": false
   },
   "outputs": [],
   "source": [
    "from sklearn.metrics import hamming_loss\n",
    "\n",
    "def hamming_scorer(estimator, X, true):\n",
    "    pred = estimator.predict(X)\n",
    "    intersect = np.intersect1d(pred.ravel().nonzero()[0], true.ravel().nonzero()[0])\n",
    "    union = np.union1d(pred.ravel().nonzero()[0], true.ravel().nonzero()[0])\n",
    "    return float(len(intersect)) / len(union)\n",
    "\n",
    "def hamming_loss_fn(estimator, X, y):\n",
    "    pred = estimator.predict(X)\n",
    "    return hamming_loss(y, pred)\n",
    "\n",
    "def false_positives(estimator, X, y):\n",
    "    pred = estimator.predict(X)\n",
    "    num_labels = len(y.ravel().nonzero()[0])\n",
    "    intercept = np.intersect1d(pred.ravel().nonzero()[0], y.ravel().nonzero()[0])\n",
    "    num_wrong = num_labels - len(intercept)\n",
    "    return float(num_wrong) / num_labels"
   ]
  },
  {
   "cell_type": "code",
   "execution_count": 211,
   "metadata": {
    "collapsed": false
   },
   "outputs": [
    {
     "name": "stdout",
     "output_type": "stream",
     "text": [
      "1909\n",
      "0.9596069869\n",
      "0.976422347514\n"
     ]
    }
   ],
   "source": [
    "clf = LinearSVC()\n",
    "ovr = OneVsRestClassifier(clf, 1)\n",
    "ovr.fit(course_tfidf, course_cats_binarized)\n",
    "print np.sum(ovr.predict(course_tfidf)) # returns 0 for all inputs\n",
    "print ovr.score(course_tfidf, course_cats_binarized)\n",
    "print hamming_score(ovr.predict(course_tfidf), course_cats_binarized)"
   ]
  },
  {
   "cell_type": "code",
   "execution_count": 212,
   "metadata": {
    "collapsed": false
   },
   "outputs": [
    {
     "name": "stdout",
     "output_type": "stream",
     "text": [
      "1619\n",
      "0.736899563319\n",
      "0.809233891426\n"
     ]
    }
   ],
   "source": [
    "clf = LinearSVC()\n",
    "ovr = OneVsRestClassifier(clf, 1)\n",
    "ovr.fit(c_tfidf_red, course_cats_binarized)\n",
    "print np.sum(ovr.predict(c_tfidf_red)) # returns 0 for all inputs\n",
    "print ovr.score(c_tfidf_red, course_cats_binarized)\n",
    "print hamming_score(ovr.predict(c_tfidf_red), course_cats_binarized)"
   ]
  },
  {
   "cell_type": "markdown",
   "metadata": {},
   "source": [
    "#Cross Val Using Hamming Score and Loss"
   ]
  },
  {
   "cell_type": "code",
   "execution_count": 213,
   "metadata": {
    "collapsed": false
   },
   "outputs": [
    {
     "name": "stdout",
     "output_type": "stream",
     "text": [
      "Hamming Score\n",
      "TFIDF: 0.449553634555\n",
      "TFIDF-LSA: 0.433520103592\n"
     ]
    }
   ],
   "source": [
    "clf = LinearSVC(class_weight='auto')\n",
    "ovr = OneVsRestClassifier(clf, 1)\n",
    "print \"Hamming Score\"\n",
    "print \"TFIDF:\", np.mean(cross_val_score(ovr, course_tfidf, y=course_cats_binarized, scoring=hamming_scorer, cv=10))\n",
    "print \"TFIDF-LSA:\", np.mean(cross_val_score(ovr, c_tfidf_red, y=course_cats_binarized, scoring=hamming_scorer, cv=10))"
   ]
  },
  {
   "cell_type": "code",
   "execution_count": 214,
   "metadata": {
    "collapsed": false
   },
   "outputs": [
    {
     "name": "stdout",
     "output_type": "stream",
     "text": [
      "Hamming Loss\n",
      "TFIDF: 0.0679157798723\n",
      "TFIDF-LSA: 0.0833498023715\n"
     ]
    }
   ],
   "source": [
    "clf = LinearSVC(class_weight='auto')\n",
    "ovr = OneVsRestClassifier(clf, 1)\n",
    "print \"Hamming Loss\"\n",
    "print \"TFIDF:\", np.mean(cross_val_score(ovr, course_tfidf, y=course_cats_binarized, scoring=hamming_loss_fn, cv=10))\n",
    "print \"TFIDF-LSA:\", np.mean(cross_val_score(ovr, c_tfidf_red, y=course_cats_binarized, scoring=hamming_loss_fn, cv=10))"
   ]
  },
  {
   "cell_type": "markdown",
   "metadata": {},
   "source": [
    "#Testing Class Weighting\n",
    "## SVD 1000\n",
    "\n",
    "###TFIDF Weighted has best score\n",
    "###TFIDF-LSA Weighted has least FP\n",
    "\n",
    "Hamming Score  \n",
    "TFIDF: 0.304183998663  \n",
    "TFIDF Weighted: 0.406202723935  *Best Score*\n",
    "\n",
    "TFIDF-LSA: 0.33431343696  \n",
    "TFIDF-LSA Weighted: 0.379689217922  \n",
    "\n",
    "False Positives  \n",
    "TFIDF: 0.679694476788  \n",
    "TFIDF Weighted: 0.412562145694  \n",
    "\n",
    "TFIDF-LSA: 0.641377265343  \n",
    "TFIDF-LSA Weighted: 0.328548232699 *Best Loss*"
   ]
  },
  {
   "cell_type": "markdown",
   "metadata": {},
   "source": [
    "# Testing Number of Dimensions\n",
    "## SVD 400 vs TFIDF\n",
    "\n",
    "Hamming Score  \n",
    "TFIDF: 0.304183998663  \n",
    "TFIDF-LSA: 0.278493742227  \n",
    "\n",
    "False Positives\n",
    "TFIDF: 0.679694476788  \n",
    "TFIDF-LSA: 0.704217180111  \n",
    "\n",
    "## SVD 600 vs TFIDF\n",
    "\n",
    "Hamming Score  \n",
    "TFIDF: 0.304183998663  \n",
    "TFIDF-LSA: 0.313730139948  \n",
    "\n",
    "False Positives\n",
    "TFIDF: 0.679694476788  \n",
    "TFIDF-LSA: 0.663058220398  \n",
    "\n",
    "## SVD 1000 vs TFIDF -- Winner\n",
    "\n",
    "Hamming Score  \n",
    "TFIDF: 0.304183998663  \n",
    "TFIDF-LSA: 0.334313436964  \n",
    "\n",
    "False Positives\n",
    "TFIDF: 0.679694476788  \n",
    "TFIDF-LSA: 0.641377265343  \n",
    "\n",
    "## SVD 2000 vs TFIDF\n",
    "\n",
    "Hamming Score  \n",
    "TFIDF: 0.304183998663  \n",
    "TFIDF-LSA: 0.322470943783  \n",
    "\n",
    "False Positives\n",
    "TFIDF: 0.679694476788  \n",
    "TFIDF-LSA: 0.657505814163  "
   ]
  },
  {
   "cell_type": "code",
   "execution_count": 215,
   "metadata": {
    "collapsed": true
   },
   "outputs": [],
   "source": [
    "import numpy as np\n",
    "import matplotlib.pyplot as plt\n",
    "from sklearn import svm, datasets\n",
    "from sklearn.metrics import roc_curve, auc\n",
    "from sklearn.cross_validation import train_test_split\n",
    "from sklearn.preprocessing import label_binarize\n",
    "from sklearn.multiclass import OneVsRestClassifier\n"
   ]
  },
  {
   "cell_type": "code",
   "execution_count": 247,
   "metadata": {
    "collapsed": false,
    "scrolled": true
   },
   "outputs": [
    {
     "data": {
      "image/png": "[encoded data removed]",
      "text/plain": [
       "<matplotlib.figure.Figure at 0x11db95610>"
      ]
     },
     "metadata": {},
     "output_type": "display_data"
    }
   ],
   "source": [
    "X = c_tfidf_red\n",
    "y = course_cats_binarized\n",
    "n_classes = y.shape[1]\n",
    "\n",
    "# shuffle and split training and test sets\n",
    "X_train, X_test, y_train, y_test = train_test_split(X, y, test_size=.5,\n",
    "                                                    random_state=1)\n",
    "\n",
    "# Learn to predict each class against the other\n",
    "classifier = OneVsRestClassifier(svm.SVC(kernel='linear', probability=True,\n",
    "                                 random_state=1, class_weight='auto'))\n",
    "y_score = classifier.fit(X_train, y_train).decision_function(X_test)\n",
    "\n",
    "\n",
    "#Compute ROC curve and ROC area for each class\n",
    "fpr = dict()\n",
    "tpr = dict()\n",
    "roc_auc = dict()\n",
    "for i in range(n_classes):\n",
    "    fpr[i], tpr[i], _ = roc_curve(y_test[:, i], y_score[:, i])\n",
    "    roc_auc[i] = auc(fpr[i], tpr[i])\n",
    "\n",
    "# Compute micro-average ROC curve and ROC area\n",
    "fpr[\"micro\"], tpr[\"micro\"], thresholds = roc_curve(y_test.ravel(), y_score.ravel())\n",
    "roc_auc[\"micro\"] = auc(fpr[\"micro\"], tpr[\"micro\"])\n",
    "\n",
    "# # Plot of a ROC curve for a specific class\n",
    "# plt.figure()\n",
    "# plt.plot(fpr[2], tpr[2], label='ROC curve (area = %0.2f)' % roc_auc[2])\n",
    "# plt.plot([0, 1], [0, 1], 'k--')\n",
    "# plt.xlim([0.0, 1.0])\n",
    "# plt.ylim([0.0, 1.05])\n",
    "# plt.xlabel('False Positive Rate')\n",
    "# plt.ylabel('True Positive Rate')\n",
    "# plt.title('Receiver operating characteristic example')\n",
    "# plt.legend(loc=\"lower right\")\n",
    "# plt.show()\n",
    "\n",
    "# Plot ROC curve\n",
    "plt.figure()\n",
    "plt.plot(fpr[\"micro\"], tpr[\"micro\"],\n",
    "         label='micro-average ROC curve (area = {0:0.2f})'\n",
    "               ''.format(roc_auc[\"micro\"]))\n",
    "# for i in range(n_classes):\n",
    "#     plt.plot(fpr[i], tpr[i], label='ROC curve of class {0} (area = {1:0.2f})'\n",
    "#                                    ''.format(i, roc_auc[i]))\n",
    "\n",
    "plt.plot([0, 1], [0, 1], 'k--')\n",
    "plt.xlim([0.0, 1.0])\n",
    "plt.ylim([0.0, 1.05])\n",
    "plt.xlabel('False Positive Rate')\n",
    "plt.ylabel('True Positive Rate')\n",
    "plt.title('Some extension of Receiver operating characteristic to multi-class')\n",
    "plt.legend(loc=\"lower right\")\n",
    "plt.show()"
   ]
  },
  {
   "cell_type": "code",
   "execution_count": 248,
   "metadata": {
    "collapsed": false
   },
   "outputs": [
    {
     "name": "stdout",
     "output_type": "stream",
     "text": [
      "1021\n"
     ]
    },
    {
     "data": {
      "text/plain": [
       "0.033933505260682728"
      ]
     },
     "execution_count": 248,
     "metadata": {},
     "output_type": "execute_result"
    }
   ],
   "source": [
    "print np.argmax(fpr['micro'] > .05) #1021 for >.05\n",
    "thresholds[1021]"
   ]
  },
  {
   "cell_type": "markdown",
   "metadata": {},
   "source": [
    "# Testing Different Classifiers"
   ]
  },
  {
   "cell_type": "code",
   "execution_count": 217,
   "metadata": {
    "collapsed": false,
    "scrolled": true
   },
   "outputs": [
    {
     "name": "stdout",
     "output_type": "stream",
     "text": [
      "Hamming Score\n",
      "TFIDF: 0.449553634555\n",
      "TFIDF-LSA: 0.433520103592\n",
      "Hamming Loss\n",
      "TFIDF:"
     ]
    },
    {
     "ename": "TypeError",
     "evalue": "Expected sequence or array-like, got estimator OneVsRestClassifier(estimator=LinearSVC(C=1.0, class_weight='auto', dual=True, fit_intercept=True,\n     intercept_scaling=1, loss='squared_hinge', max_iter=1000,\n     multi_class='ovr', penalty='l2', random_state=None, tol=0.0001,\n     verbose=0),\n          n_jobs=1)",
     "output_type": "error",
     "traceback": [
      "\u001b[0;31m---------------------------------------------------------------------------\u001b[0m",
      "\u001b[0;31mTypeError\u001b[0m                                 Traceback (most recent call last)",
      "\u001b[0;32m<ipython-input-217-d28574f4f7d5>\u001b[0m in \u001b[0;36m<module>\u001b[0;34m()\u001b[0m\n\u001b[1;32m      7\u001b[0m \u001b[0;34m\u001b[0m\u001b[0m\n\u001b[1;32m      8\u001b[0m \u001b[0;32mprint\u001b[0m \u001b[0;34m\"Hamming Loss\"\u001b[0m\u001b[0;34m\u001b[0m\u001b[0m\n\u001b[0;32m----> 9\u001b[0;31m \u001b[0;32mprint\u001b[0m \u001b[0;34m\"TFIDF:\"\u001b[0m\u001b[0;34m,\u001b[0m \u001b[0mnp\u001b[0m\u001b[0;34m.\u001b[0m\u001b[0mmean\u001b[0m\u001b[0;34m(\u001b[0m\u001b[0mcross_val_score\u001b[0m\u001b[0;34m(\u001b[0m\u001b[0movr\u001b[0m\u001b[0;34m,\u001b[0m \u001b[0mcourse_tfidf\u001b[0m\u001b[0;34m,\u001b[0m \u001b[0my\u001b[0m\u001b[0;34m=\u001b[0m\u001b[0mcourse_cats_binarized\u001b[0m\u001b[0;34m,\u001b[0m \u001b[0mscoring\u001b[0m\u001b[0;34m=\u001b[0m\u001b[0mhamming_loss\u001b[0m\u001b[0;34m,\u001b[0m \u001b[0mcv\u001b[0m\u001b[0;34m=\u001b[0m\u001b[0;36m10\u001b[0m\u001b[0;34m)\u001b[0m\u001b[0;34m)\u001b[0m\u001b[0;34m\u001b[0m\u001b[0m\n\u001b[0m\u001b[1;32m     10\u001b[0m \u001b[0;32mprint\u001b[0m \u001b[0;34m\"TFIDF-LSA:\"\u001b[0m\u001b[0;34m,\u001b[0m \u001b[0mnp\u001b[0m\u001b[0;34m.\u001b[0m\u001b[0mmean\u001b[0m\u001b[0;34m(\u001b[0m\u001b[0mcross_val_score\u001b[0m\u001b[0;34m(\u001b[0m\u001b[0movr\u001b[0m\u001b[0;34m,\u001b[0m \u001b[0mc_tfidf_red\u001b[0m\u001b[0;34m,\u001b[0m \u001b[0my\u001b[0m\u001b[0;34m=\u001b[0m\u001b[0mcourse_cats_binarized\u001b[0m\u001b[0;34m,\u001b[0m \u001b[0mscoring\u001b[0m\u001b[0;34m=\u001b[0m\u001b[0mhamming_loss\u001b[0m\u001b[0;34m,\u001b[0m \u001b[0mcv\u001b[0m\u001b[0;34m=\u001b[0m\u001b[0;36m10\u001b[0m\u001b[0;34m)\u001b[0m\u001b[0;34m)\u001b[0m\u001b[0;34m\u001b[0m\u001b[0m\n",
      "\u001b[0;32m/Users/datascientist/anaconda/lib/python2.7/site-packages/sklearn/cross_validation.pyc\u001b[0m in \u001b[0;36mcross_val_score\u001b[0;34m(estimator, X, y, scoring, cv, n_jobs, verbose, fit_params, pre_dispatch)\u001b[0m\n\u001b[1;32m   1359\u001b[0m                                               \u001b[0mtrain\u001b[0m\u001b[0;34m,\u001b[0m \u001b[0mtest\u001b[0m\u001b[0;34m,\u001b[0m \u001b[0mverbose\u001b[0m\u001b[0;34m,\u001b[0m \u001b[0mNone\u001b[0m\u001b[0;34m,\u001b[0m\u001b[0;34m\u001b[0m\u001b[0m\n\u001b[1;32m   1360\u001b[0m                                               fit_params)\n\u001b[0;32m-> 1361\u001b[0;31m                       for train, test in cv)\n\u001b[0m\u001b[1;32m   1362\u001b[0m     \u001b[0;32mreturn\u001b[0m \u001b[0mnp\u001b[0m\u001b[0;34m.\u001b[0m\u001b[0marray\u001b[0m\u001b[0;34m(\u001b[0m\u001b[0mscores\u001b[0m\u001b[0;34m)\u001b[0m\u001b[0;34m[\u001b[0m\u001b[0;34m:\u001b[0m\u001b[0;34m,\u001b[0m \u001b[0;36m0\u001b[0m\u001b[0;34m]\u001b[0m\u001b[0;34m\u001b[0m\u001b[0m\n\u001b[1;32m   1363\u001b[0m \u001b[0;34m\u001b[0m\u001b[0m\n",
      "\u001b[0;32m/Users/datascientist/anaconda/lib/python2.7/site-packages/sklearn/externals/joblib/parallel.pyc\u001b[0m in \u001b[0;36m__call__\u001b[0;34m(self, iterable)\u001b[0m\n\u001b[1;32m    657\u001b[0m             \u001b[0mself\u001b[0m\u001b[0;34m.\u001b[0m\u001b[0m_iterating\u001b[0m \u001b[0;34m=\u001b[0m \u001b[0mTrue\u001b[0m\u001b[0;34m\u001b[0m\u001b[0m\n\u001b[1;32m    658\u001b[0m             \u001b[0;32mfor\u001b[0m \u001b[0mfunction\u001b[0m\u001b[0;34m,\u001b[0m \u001b[0margs\u001b[0m\u001b[0;34m,\u001b[0m \u001b[0mkwargs\u001b[0m \u001b[0;32min\u001b[0m \u001b[0miterable\u001b[0m\u001b[0;34m:\u001b[0m\u001b[0;34m\u001b[0m\u001b[0m\n\u001b[0;32m--> 659\u001b[0;31m                 \u001b[0mself\u001b[0m\u001b[0;34m.\u001b[0m\u001b[0mdispatch\u001b[0m\u001b[0;34m(\u001b[0m\u001b[0mfunction\u001b[0m\u001b[0;34m,\u001b[0m \u001b[0margs\u001b[0m\u001b[0;34m,\u001b[0m \u001b[0mkwargs\u001b[0m\u001b[0;34m)\u001b[0m\u001b[0;34m\u001b[0m\u001b[0m\n\u001b[0m\u001b[1;32m    660\u001b[0m \u001b[0;34m\u001b[0m\u001b[0m\n\u001b[1;32m    661\u001b[0m             \u001b[0;32mif\u001b[0m \u001b[0mpre_dispatch\u001b[0m \u001b[0;34m==\u001b[0m \u001b[0;34m\"all\"\u001b[0m \u001b[0;32mor\u001b[0m \u001b[0mn_jobs\u001b[0m \u001b[0;34m==\u001b[0m \u001b[0;36m1\u001b[0m\u001b[0;34m:\u001b[0m\u001b[0;34m\u001b[0m\u001b[0m\n",
      "\u001b[0;32m/Users/datascientist/anaconda/lib/python2.7/site-packages/sklearn/externals/joblib/parallel.pyc\u001b[0m in \u001b[0;36mdispatch\u001b[0;34m(self, func, args, kwargs)\u001b[0m\n\u001b[1;32m    404\u001b[0m         \"\"\"\n\u001b[1;32m    405\u001b[0m         \u001b[0;32mif\u001b[0m \u001b[0mself\u001b[0m\u001b[0;34m.\u001b[0m\u001b[0m_pool\u001b[0m \u001b[0;32mis\u001b[0m \u001b[0mNone\u001b[0m\u001b[0;34m:\u001b[0m\u001b[0;34m\u001b[0m\u001b[0m\n\u001b[0;32m--> 406\u001b[0;31m             \u001b[0mjob\u001b[0m \u001b[0;34m=\u001b[0m \u001b[0mImmediateApply\u001b[0m\u001b[0;34m(\u001b[0m\u001b[0mfunc\u001b[0m\u001b[0;34m,\u001b[0m \u001b[0margs\u001b[0m\u001b[0;34m,\u001b[0m \u001b[0mkwargs\u001b[0m\u001b[0;34m)\u001b[0m\u001b[0;34m\u001b[0m\u001b[0m\n\u001b[0m\u001b[1;32m    407\u001b[0m             \u001b[0mindex\u001b[0m \u001b[0;34m=\u001b[0m \u001b[0mlen\u001b[0m\u001b[0;34m(\u001b[0m\u001b[0mself\u001b[0m\u001b[0;34m.\u001b[0m\u001b[0m_jobs\u001b[0m\u001b[0;34m)\u001b[0m\u001b[0;34m\u001b[0m\u001b[0m\n\u001b[1;32m    408\u001b[0m             \u001b[0;32mif\u001b[0m \u001b[0;32mnot\u001b[0m \u001b[0m_verbosity_filter\u001b[0m\u001b[0;34m(\u001b[0m\u001b[0mindex\u001b[0m\u001b[0;34m,\u001b[0m \u001b[0mself\u001b[0m\u001b[0;34m.\u001b[0m\u001b[0mverbose\u001b[0m\u001b[0;34m)\u001b[0m\u001b[0;34m:\u001b[0m\u001b[0;34m\u001b[0m\u001b[0m\n",
      "\u001b[0;32m/Users/datascientist/anaconda/lib/python2.7/site-packages/sklearn/externals/joblib/parallel.pyc\u001b[0m in \u001b[0;36m__init__\u001b[0;34m(self, func, args, kwargs)\u001b[0m\n\u001b[1;32m    138\u001b[0m         \u001b[0;31m# Don't delay the application, to avoid keeping the input\u001b[0m\u001b[0;34m\u001b[0m\u001b[0;34m\u001b[0m\u001b[0m\n\u001b[1;32m    139\u001b[0m         \u001b[0;31m# arguments in memory\u001b[0m\u001b[0;34m\u001b[0m\u001b[0;34m\u001b[0m\u001b[0m\n\u001b[0;32m--> 140\u001b[0;31m         \u001b[0mself\u001b[0m\u001b[0;34m.\u001b[0m\u001b[0mresults\u001b[0m \u001b[0;34m=\u001b[0m \u001b[0mfunc\u001b[0m\u001b[0;34m(\u001b[0m\u001b[0;34m*\u001b[0m\u001b[0margs\u001b[0m\u001b[0;34m,\u001b[0m \u001b[0;34m**\u001b[0m\u001b[0mkwargs\u001b[0m\u001b[0;34m)\u001b[0m\u001b[0;34m\u001b[0m\u001b[0m\n\u001b[0m\u001b[1;32m    141\u001b[0m \u001b[0;34m\u001b[0m\u001b[0m\n\u001b[1;32m    142\u001b[0m     \u001b[0;32mdef\u001b[0m \u001b[0mget\u001b[0m\u001b[0;34m(\u001b[0m\u001b[0mself\u001b[0m\u001b[0;34m)\u001b[0m\u001b[0;34m:\u001b[0m\u001b[0;34m\u001b[0m\u001b[0m\n",
      "\u001b[0;32m/Users/datascientist/anaconda/lib/python2.7/site-packages/sklearn/cross_validation.pyc\u001b[0m in \u001b[0;36m_fit_and_score\u001b[0;34m(estimator, X, y, scorer, train, test, verbose, parameters, fit_params, return_train_score, return_parameters, error_score)\u001b[0m\n\u001b[1;32m   1476\u001b[0m \u001b[0;34m\u001b[0m\u001b[0m\n\u001b[1;32m   1477\u001b[0m     \u001b[0;32melse\u001b[0m\u001b[0;34m:\u001b[0m\u001b[0;34m\u001b[0m\u001b[0m\n\u001b[0;32m-> 1478\u001b[0;31m         \u001b[0mtest_score\u001b[0m \u001b[0;34m=\u001b[0m \u001b[0m_score\u001b[0m\u001b[0;34m(\u001b[0m\u001b[0mestimator\u001b[0m\u001b[0;34m,\u001b[0m \u001b[0mX_test\u001b[0m\u001b[0;34m,\u001b[0m \u001b[0my_test\u001b[0m\u001b[0;34m,\u001b[0m \u001b[0mscorer\u001b[0m\u001b[0;34m)\u001b[0m\u001b[0;34m\u001b[0m\u001b[0m\n\u001b[0m\u001b[1;32m   1479\u001b[0m         \u001b[0;32mif\u001b[0m \u001b[0mreturn_train_score\u001b[0m\u001b[0;34m:\u001b[0m\u001b[0;34m\u001b[0m\u001b[0m\n\u001b[1;32m   1480\u001b[0m             \u001b[0mtrain_score\u001b[0m \u001b[0;34m=\u001b[0m \u001b[0m_score\u001b[0m\u001b[0;34m(\u001b[0m\u001b[0mestimator\u001b[0m\u001b[0;34m,\u001b[0m \u001b[0mX_train\u001b[0m\u001b[0;34m,\u001b[0m \u001b[0my_train\u001b[0m\u001b[0;34m,\u001b[0m \u001b[0mscorer\u001b[0m\u001b[0;34m)\u001b[0m\u001b[0;34m\u001b[0m\u001b[0m\n",
      "\u001b[0;32m/Users/datascientist/anaconda/lib/python2.7/site-packages/sklearn/cross_validation.pyc\u001b[0m in \u001b[0;36m_score\u001b[0;34m(estimator, X_test, y_test, scorer)\u001b[0m\n\u001b[1;32m   1532\u001b[0m         \u001b[0mscore\u001b[0m \u001b[0;34m=\u001b[0m \u001b[0mscorer\u001b[0m\u001b[0;34m(\u001b[0m\u001b[0mestimator\u001b[0m\u001b[0;34m,\u001b[0m \u001b[0mX_test\u001b[0m\u001b[0;34m)\u001b[0m\u001b[0;34m\u001b[0m\u001b[0m\n\u001b[1;32m   1533\u001b[0m     \u001b[0;32melse\u001b[0m\u001b[0;34m:\u001b[0m\u001b[0;34m\u001b[0m\u001b[0m\n\u001b[0;32m-> 1534\u001b[0;31m         \u001b[0mscore\u001b[0m \u001b[0;34m=\u001b[0m \u001b[0mscorer\u001b[0m\u001b[0;34m(\u001b[0m\u001b[0mestimator\u001b[0m\u001b[0;34m,\u001b[0m \u001b[0mX_test\u001b[0m\u001b[0;34m,\u001b[0m \u001b[0my_test\u001b[0m\u001b[0;34m)\u001b[0m\u001b[0;34m\u001b[0m\u001b[0m\n\u001b[0m\u001b[1;32m   1535\u001b[0m     \u001b[0;32mif\u001b[0m \u001b[0;32mnot\u001b[0m \u001b[0misinstance\u001b[0m\u001b[0;34m(\u001b[0m\u001b[0mscore\u001b[0m\u001b[0;34m,\u001b[0m \u001b[0mnumbers\u001b[0m\u001b[0;34m.\u001b[0m\u001b[0mNumber\u001b[0m\u001b[0;34m)\u001b[0m\u001b[0;34m:\u001b[0m\u001b[0;34m\u001b[0m\u001b[0m\n\u001b[1;32m   1536\u001b[0m         raise ValueError(\"scoring must return a number, got %s (%s) instead.\"\n",
      "\u001b[0;32m/Users/datascientist/anaconda/lib/python2.7/site-packages/sklearn/metrics/classification.pyc\u001b[0m in \u001b[0;36mhamming_loss\u001b[0;34m(y_true, y_pred, classes)\u001b[0m\n\u001b[1;32m   1333\u001b[0m     \u001b[0;36m0.75\u001b[0m\u001b[0;34m\u001b[0m\u001b[0m\n\u001b[1;32m   1334\u001b[0m     \"\"\"\n\u001b[0;32m-> 1335\u001b[0;31m     \u001b[0my_type\u001b[0m\u001b[0;34m,\u001b[0m \u001b[0my_true\u001b[0m\u001b[0;34m,\u001b[0m \u001b[0my_pred\u001b[0m \u001b[0;34m=\u001b[0m \u001b[0m_check_targets\u001b[0m\u001b[0;34m(\u001b[0m\u001b[0my_true\u001b[0m\u001b[0;34m,\u001b[0m \u001b[0my_pred\u001b[0m\u001b[0;34m)\u001b[0m\u001b[0;34m\u001b[0m\u001b[0m\n\u001b[0m\u001b[1;32m   1336\u001b[0m \u001b[0;34m\u001b[0m\u001b[0m\n\u001b[1;32m   1337\u001b[0m     \u001b[0;32mif\u001b[0m \u001b[0mclasses\u001b[0m \u001b[0;32mis\u001b[0m \u001b[0mNone\u001b[0m\u001b[0;34m:\u001b[0m\u001b[0;34m\u001b[0m\u001b[0m\n",
      "\u001b[0;32m/Users/datascientist/anaconda/lib/python2.7/site-packages/sklearn/metrics/classification.pyc\u001b[0m in \u001b[0;36m_check_targets\u001b[0;34m(y_true, y_pred)\u001b[0m\n\u001b[1;32m     72\u001b[0m     \u001b[0my_pred\u001b[0m \u001b[0;34m:\u001b[0m \u001b[0marray\u001b[0m \u001b[0;32mor\u001b[0m \u001b[0mindicator\u001b[0m \u001b[0mmatrix\u001b[0m\u001b[0;34m\u001b[0m\u001b[0m\n\u001b[1;32m     73\u001b[0m     \"\"\"\n\u001b[0;32m---> 74\u001b[0;31m     \u001b[0mcheck_consistent_length\u001b[0m\u001b[0;34m(\u001b[0m\u001b[0my_true\u001b[0m\u001b[0;34m,\u001b[0m \u001b[0my_pred\u001b[0m\u001b[0;34m)\u001b[0m\u001b[0;34m\u001b[0m\u001b[0m\n\u001b[0m\u001b[1;32m     75\u001b[0m     \u001b[0mtype_true\u001b[0m \u001b[0;34m=\u001b[0m \u001b[0mtype_of_target\u001b[0m\u001b[0;34m(\u001b[0m\u001b[0my_true\u001b[0m\u001b[0;34m)\u001b[0m\u001b[0;34m\u001b[0m\u001b[0m\n\u001b[1;32m     76\u001b[0m     \u001b[0mtype_pred\u001b[0m \u001b[0;34m=\u001b[0m \u001b[0mtype_of_target\u001b[0m\u001b[0;34m(\u001b[0m\u001b[0my_pred\u001b[0m\u001b[0;34m)\u001b[0m\u001b[0;34m\u001b[0m\u001b[0m\n",
      "\u001b[0;32m/Users/datascientist/anaconda/lib/python2.7/site-packages/sklearn/utils/validation.pyc\u001b[0m in \u001b[0;36mcheck_consistent_length\u001b[0;34m(*arrays)\u001b[0m\n\u001b[1;32m    169\u001b[0m     \"\"\"\n\u001b[1;32m    170\u001b[0m \u001b[0;34m\u001b[0m\u001b[0m\n\u001b[0;32m--> 171\u001b[0;31m     \u001b[0muniques\u001b[0m \u001b[0;34m=\u001b[0m \u001b[0mnp\u001b[0m\u001b[0;34m.\u001b[0m\u001b[0munique\u001b[0m\u001b[0;34m(\u001b[0m\u001b[0;34m[\u001b[0m\u001b[0m_num_samples\u001b[0m\u001b[0;34m(\u001b[0m\u001b[0mX\u001b[0m\u001b[0;34m)\u001b[0m \u001b[0;32mfor\u001b[0m \u001b[0mX\u001b[0m \u001b[0;32min\u001b[0m \u001b[0marrays\u001b[0m \u001b[0;32mif\u001b[0m \u001b[0mX\u001b[0m \u001b[0;32mis\u001b[0m \u001b[0;32mnot\u001b[0m \u001b[0mNone\u001b[0m\u001b[0;34m]\u001b[0m\u001b[0;34m)\u001b[0m\u001b[0;34m\u001b[0m\u001b[0m\n\u001b[0m\u001b[1;32m    172\u001b[0m     \u001b[0;32mif\u001b[0m \u001b[0mlen\u001b[0m\u001b[0;34m(\u001b[0m\u001b[0muniques\u001b[0m\u001b[0;34m)\u001b[0m \u001b[0;34m>\u001b[0m \u001b[0;36m1\u001b[0m\u001b[0;34m:\u001b[0m\u001b[0;34m\u001b[0m\u001b[0m\n\u001b[1;32m    173\u001b[0m         raise ValueError(\"Found arrays with inconsistent numbers of samples: \"\n",
      "\u001b[0;32m/Users/datascientist/anaconda/lib/python2.7/site-packages/sklearn/utils/validation.pyc\u001b[0m in \u001b[0;36m_num_samples\u001b[0;34m(x)\u001b[0m\n\u001b[1;32m    108\u001b[0m         \u001b[0;31m# Don't get num_samples from an ensembles length!\u001b[0m\u001b[0;34m\u001b[0m\u001b[0;34m\u001b[0m\u001b[0m\n\u001b[1;32m    109\u001b[0m         raise TypeError('Expected sequence or array-like, got '\n\u001b[0;32m--> 110\u001b[0;31m                         'estimator %s' % x)\n\u001b[0m\u001b[1;32m    111\u001b[0m     \u001b[0;32mif\u001b[0m \u001b[0;32mnot\u001b[0m \u001b[0mhasattr\u001b[0m\u001b[0;34m(\u001b[0m\u001b[0mx\u001b[0m\u001b[0;34m,\u001b[0m \u001b[0;34m'__len__'\u001b[0m\u001b[0;34m)\u001b[0m \u001b[0;32mand\u001b[0m \u001b[0;32mnot\u001b[0m \u001b[0mhasattr\u001b[0m\u001b[0;34m(\u001b[0m\u001b[0mx\u001b[0m\u001b[0;34m,\u001b[0m \u001b[0;34m'shape'\u001b[0m\u001b[0;34m)\u001b[0m\u001b[0;34m:\u001b[0m\u001b[0;34m\u001b[0m\u001b[0m\n\u001b[1;32m    112\u001b[0m         \u001b[0;32mif\u001b[0m \u001b[0mhasattr\u001b[0m\u001b[0;34m(\u001b[0m\u001b[0mx\u001b[0m\u001b[0;34m,\u001b[0m \u001b[0;34m'__array__'\u001b[0m\u001b[0;34m)\u001b[0m\u001b[0;34m:\u001b[0m\u001b[0;34m\u001b[0m\u001b[0m\n",
      "\u001b[0;31mTypeError\u001b[0m: Expected sequence or array-like, got estimator OneVsRestClassifier(estimator=LinearSVC(C=1.0, class_weight='auto', dual=True, fit_intercept=True,\n     intercept_scaling=1, loss='squared_hinge', max_iter=1000,\n     multi_class='ovr', penalty='l2', random_state=None, tol=0.0001,\n     verbose=0),\n          n_jobs=1)"
     ]
    }
   ],
   "source": [
    "# clf = svm.SVC(kernel='rbf', probability=True,\n",
    "#                                  random_state=1, class_weight='auto')\n",
    "# ovr = OneVsRestClassifier(clf, 1)\n",
    "print \"Hamming Score\"\n",
    "print \"TFIDF:\", np.mean(cross_val_score(ovr, course_tfidf, y=course_cats_binarized, scoring=hamming_scorer, cv=10))\n",
    "print \"TFIDF-LSA:\", np.mean(cross_val_score(ovr, c_tfidf_red, y=course_cats_binarized, scoring=hamming_scorer, cv=10))\n",
    "\n",
    "print \"Hamming Loss\"\n",
    "print \"TFIDF:\", np.mean(cross_val_score(ovr, course_tfidf, y=course_cats_binarized, scoring=hamming_loss_fn, cv=10))\n",
    "print \"TFIDF-LSA:\", np.mean(cross_val_score(ovr, c_tfidf_red, y=course_cats_binarized, scoring=hamming_loss_fn, cv=10))"
   ]
  },
  {
   "cell_type": "code",
   "execution_count": null,
   "metadata": {
    "collapsed": true
   },
   "outputs": [],
   "source": []
  }
 ],
 "metadata": {
  "kernelspec": {
   "display_name": "Python 2",
   "language": "python",
   "name": "python2"
  },
  "language_info": {
   "codemirror_mode": {
    "name": "ipython",
    "version": 2
   },
   "file_extension": ".py",
   "mimetype": "text/x-python",
   "name": "python",
   "nbconvert_exporter": "python",
   "pygments_lexer": "ipython2",
   "version": "2.7.9"
  }
 },
 "nbformat": 4,
 "nbformat_minor": 0
}
